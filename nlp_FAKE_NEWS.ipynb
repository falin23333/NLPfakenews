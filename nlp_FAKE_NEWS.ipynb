{
 "cells": [
  {
   "cell_type": "code",
   "execution_count": 1,
   "id": "379ffb3f-29db-4961-82f0-ba47ab8f9ee8",
   "metadata": {},
   "outputs": [],
   "source": [
    "import pandas as pd\n",
    "import re\n",
    "from nltk.tokenize import word_tokenize, sent_tokenize\n",
    "import nltk\n",
    "from nltk.stem import PorterStemmer\n",
    "from nltk.stem import LancasterStemmer\n",
    "import pandas as pd\n",
    "import numpy as np\n",
    "from nltk.corpus import stopwords \n",
    "from nltk.stem.snowball import SnowballStemmer\n",
    "from sklearn.feature_extraction.text import CountVectorizer, TfidfTransformer\n",
    "import seaborn as sns\n",
    "import matplotlib.pyplot as plt\n",
    "\n",
    "#pd.options.display.max_columns = None\n",
    "\n",
    "from sklearn.feature_extraction.text import CountVectorizer\n",
    "from nltk.stem.snowball import SnowballStemmer\n",
    "\n",
    "# Creamos objects a partir de las clases PorterStemmer y LancasterStemmer\n",
    "\n",
    "\n"
   ]
  },
  {
   "cell_type": "markdown",
   "id": "8e08581d-ddd9-43f3-bc02-1f26183d7ce8",
   "metadata": {},
   "source": [
    "# Reading CSV`s"
   ]
  },
  {
   "cell_type": "code",
   "execution_count": 2,
   "id": "cf2916db-2936-4dbf-b353-22cca02e5dc3",
   "metadata": {},
   "outputs": [],
   "source": [
    "real = pd.read_csv(\"True.csv\")\n",
    "fake = pd.read_csv(\"Fake.csv\")"
   ]
  },
  {
   "cell_type": "markdown",
   "id": "84f3c071-b3db-4cbe-8226-c4d8eb09ec56",
   "metadata": {},
   "source": [
    "# Assign tags"
   ]
  },
  {
   "cell_type": "code",
   "execution_count": 3,
   "id": "433e447d-42a3-4fda-a461-175fdc775486",
   "metadata": {},
   "outputs": [],
   "source": [
    "\n",
    "real[\"Fake\"] = 0 \n",
    "fake[\"Fake\"] = 1"
   ]
  },
  {
   "cell_type": "markdown",
   "id": "ba9dd601-bc01-4657-bc14-e7460be88eeb",
   "metadata": {},
   "source": [
    "# Concat dataframes"
   ]
  },
  {
   "cell_type": "code",
   "execution_count": null,
   "id": "9b0d0a96-17e3-4e12-b64b-7a7c7386978c",
   "metadata": {},
   "outputs": [],
   "source": [
    "df = pd.concat((real,fake))#\n"
   ]
  },
  {
   "cell_type": "code",
   "execution_count": 5,
   "id": "993553bd-9f94-4cc9-a84e-78b15d2bd620",
   "metadata": {},
   "outputs": [
    {
     "data": {
      "text/plain": [
       "(44898, 5)"
      ]
     },
     "execution_count": 5,
     "metadata": {},
     "output_type": "execute_result"
    }
   ],
   "source": [
    "df.shape # veo las dimensiones"
   ]
  },
  {
   "cell_type": "markdown",
   "id": "d96b545b-6605-4e40-965d-9cde422d3968",
   "metadata": {},
   "source": [
    "# Shuffling df"
   ]
  },
  {
   "cell_type": "code",
   "execution_count": 6,
   "id": "62b2eaa4-a779-41ce-bc6f-ad803fb9e7ff",
   "metadata": {},
   "outputs": [],
   "source": [
    "df = df.sample(df.shape[0]) # mezcla instancias"
   ]
  },
  {
   "cell_type": "code",
   "execution_count": 7,
   "id": "7cdc75aa-2c5f-436e-a6b5-8b00d24b9e2d",
   "metadata": {},
   "outputs": [
    {
     "name": "stdout",
     "output_type": "stream",
     "text": [
      "<class 'pandas.core.frame.DataFrame'>\n",
      "Int64Index: 44898 entries, 12711 to 5312\n",
      "Data columns (total 5 columns):\n",
      " #   Column   Non-Null Count  Dtype \n",
      "---  ------   --------------  ----- \n",
      " 0   title    44898 non-null  object\n",
      " 1   text     44898 non-null  object\n",
      " 2   subject  44898 non-null  object\n",
      " 3   date     44898 non-null  object\n",
      " 4   Fake     44898 non-null  int64 \n",
      "dtypes: int64(1), object(4)\n",
      "memory usage: 2.1+ MB\n"
     ]
    }
   ],
   "source": [
    "df.info()"
   ]
  },
  {
   "cell_type": "code",
   "execution_count": 8,
   "id": "101980da-4570-4e5c-8d55-5cc594224f16",
   "metadata": {},
   "outputs": [
    {
     "data": {
      "text/html": [
       "<div>\n",
       "<style scoped>\n",
       "    .dataframe tbody tr th:only-of-type {\n",
       "        vertical-align: middle;\n",
       "    }\n",
       "\n",
       "    .dataframe tbody tr th {\n",
       "        vertical-align: top;\n",
       "    }\n",
       "\n",
       "    .dataframe thead th {\n",
       "        text-align: right;\n",
       "    }\n",
       "</style>\n",
       "<table border=\"1\" class=\"dataframe\">\n",
       "  <thead>\n",
       "    <tr style=\"text-align: right;\">\n",
       "      <th></th>\n",
       "      <th>title</th>\n",
       "      <th>text</th>\n",
       "      <th>subject</th>\n",
       "      <th>date</th>\n",
       "      <th>Fake</th>\n",
       "    </tr>\n",
       "  </thead>\n",
       "  <tbody>\n",
       "    <tr>\n",
       "      <th>12711</th>\n",
       "      <td>Pope singles out Rome's decay, corruption on t...</td>\n",
       "      <td>ROME (Reuters) - Pope Francis lamented the dec...</td>\n",
       "      <td>worldnews</td>\n",
       "      <td>December 8, 2017</td>\n",
       "      <td>0</td>\n",
       "    </tr>\n",
       "  </tbody>\n",
       "</table>\n",
       "</div>"
      ],
      "text/plain": [
       "                                                   title  \\\n",
       "12711  Pope singles out Rome's decay, corruption on t...   \n",
       "\n",
       "                                                    text    subject  \\\n",
       "12711  ROME (Reuters) - Pope Francis lamented the dec...  worldnews   \n",
       "\n",
       "                    date  Fake  \n",
       "12711  December 8, 2017      0  "
      ]
     },
     "execution_count": 8,
     "metadata": {},
     "output_type": "execute_result"
    }
   ],
   "source": [
    "df.head(1)"
   ]
  },
  {
   "cell_type": "code",
   "execution_count": 9,
   "id": "9bb4bebf-1e79-4fce-9c35-604e5c1fc4d5",
   "metadata": {},
   "outputs": [],
   "source": [
    "data = df[[\"text\",\"Fake\"]]"
   ]
  },
  {
   "cell_type": "code",
   "execution_count": 10,
   "id": "a24fb276-9b94-4f60-be58-46fab39bf1e7",
   "metadata": {},
   "outputs": [
    {
     "data": {
      "text/html": [
       "<div>\n",
       "<style scoped>\n",
       "    .dataframe tbody tr th:only-of-type {\n",
       "        vertical-align: middle;\n",
       "    }\n",
       "\n",
       "    .dataframe tbody tr th {\n",
       "        vertical-align: top;\n",
       "    }\n",
       "\n",
       "    .dataframe thead th {\n",
       "        text-align: right;\n",
       "    }\n",
       "</style>\n",
       "<table border=\"1\" class=\"dataframe\">\n",
       "  <thead>\n",
       "    <tr style=\"text-align: right;\">\n",
       "      <th></th>\n",
       "      <th>text</th>\n",
       "      <th>Fake</th>\n",
       "    </tr>\n",
       "  </thead>\n",
       "  <tbody>\n",
       "    <tr>\n",
       "      <th>12711</th>\n",
       "      <td>ROME (Reuters) - Pope Francis lamented the dec...</td>\n",
       "      <td>0</td>\n",
       "    </tr>\n",
       "    <tr>\n",
       "      <th>15377</th>\n",
       "      <td>A transcript from the Friday, July 31, 2015 Ru...</td>\n",
       "      <td>1</td>\n",
       "    </tr>\n",
       "    <tr>\n",
       "      <th>8644</th>\n",
       "      <td>WASHINGTON (Reuters) - The top Democrat on the...</td>\n",
       "      <td>0</td>\n",
       "    </tr>\n",
       "    <tr>\n",
       "      <th>5806</th>\n",
       "      <td>Newly released body camera footage shows a La ...</td>\n",
       "      <td>1</td>\n",
       "    </tr>\n",
       "    <tr>\n",
       "      <th>20044</th>\n",
       "      <td>DUBAI (Reuters) - Yemen s Houthi leader Abdel-...</td>\n",
       "      <td>0</td>\n",
       "    </tr>\n",
       "  </tbody>\n",
       "</table>\n",
       "</div>"
      ],
      "text/plain": [
       "                                                    text  Fake\n",
       "12711  ROME (Reuters) - Pope Francis lamented the dec...     0\n",
       "15377  A transcript from the Friday, July 31, 2015 Ru...     1\n",
       "8644   WASHINGTON (Reuters) - The top Democrat on the...     0\n",
       "5806   Newly released body camera footage shows a La ...     1\n",
       "20044  DUBAI (Reuters) - Yemen s Houthi leader Abdel-...     0"
      ]
     },
     "execution_count": 10,
     "metadata": {},
     "output_type": "execute_result"
    }
   ],
   "source": [
    "data.head()"
   ]
  },
  {
   "cell_type": "code",
   "execution_count": 11,
   "id": "ae29ff31-434c-4afd-89a9-ef9ea3adf8a9",
   "metadata": {},
   "outputs": [],
   "source": [
    "data.reset_index(inplace = True)"
   ]
  },
  {
   "cell_type": "markdown",
   "id": "8d72cd30-353b-452d-80c4-229d020b072b",
   "metadata": {},
   "source": [
    "# Preprocessig and Tokenization"
   ]
  },
  {
   "cell_type": "code",
   "execution_count": null,
   "id": "25fc1a76-dd35-4200-917b-823e8b434deb",
   "metadata": {},
   "outputs": [],
   "source": []
  },
  {
   "cell_type": "code",
   "execution_count": 12,
   "id": "8f2a9377-d9b2-4a7f-8fe4-932c0f4f9424",
   "metadata": {},
   "outputs": [
    {
     "name": "stdout",
     "output_type": "stream",
     "text": [
      "Cargando paquete RAFA.py\n",
      "['i', 'me', 'my', 'myself', 'we', 'our', 'ours', 'ourselves', 'you', \"you're\", \"you've\", \"you'll\", \"you'd\", 'your', 'yours']\n"
     ]
    }
   ],
   "source": [
    "from RAFA import nlp\n",
    "from nltk.corpus import stopwords\n",
    "\n",
    "stopwords_english = stopwords.words('english')\n",
    "print(stopwords_english[:15]) "
   ]
  },
  {
   "cell_type": "code",
   "execution_count": 13,
   "id": "2147b1ba-2657-458e-8dc0-263b91b73209",
   "metadata": {},
   "outputs": [
    {
     "name": "stderr",
     "output_type": "stream",
     "text": [
      "C:\\Users\\falen\\AppData\\Local\\Temp\\ipykernel_19292\\1601325091.py:1: SettingWithCopyWarning: \n",
      "A value is trying to be set on a copy of a slice from a DataFrame\n",
      "\n",
      "See the caveats in the documentation: https://pandas.pydata.org/pandas-docs/stable/user_guide/indexing.html#returning-a-view-versus-a-copy\n",
      "  data.rename(columns ={\"text\":\"Original_Text\"},inplace = True)\n"
     ]
    }
   ],
   "source": [
    "data.rename(columns ={\"text\":\"Original_Text\"},inplace = True)"
   ]
  },
  {
   "cell_type": "markdown",
   "id": "bea52b3b-8feb-4b31-9c6e-ece78585d83c",
   "metadata": {},
   "source": [
    "# PorterStemmer"
   ]
  },
  {
   "cell_type": "code",
   "execution_count": 14,
   "id": "5835b737-7815-486d-a7b8-f9e34af38c88",
   "metadata": {},
   "outputs": [],
   "source": [
    "porter = PorterStemmer()\n",
    "lancaster=LancasterStemmer()\n"
   ]
  },
  {
   "cell_type": "code",
   "execution_count": 15,
   "id": "7edc3e50-c182-4b90-98dd-c28465654e50",
   "metadata": {},
   "outputs": [
    {
     "name": "stderr",
     "output_type": "stream",
     "text": [
      "C:\\Users\\falen\\AppData\\Local\\Temp\\ipykernel_19292\\1471720089.py:23: SettingWithCopyWarning: \n",
      "A value is trying to be set on a copy of a slice from a DataFrame.\n",
      "Try using .loc[row_indexer,col_indexer] = value instead\n",
      "\n",
      "See the caveats in the documentation: https://pandas.pydata.org/pandas-docs/stable/user_guide/indexing.html#returning-a-view-versus-a-copy\n",
      "  data['text_stemmatizer'] = data['Original_Text'].apply(clean_text)\n"
     ]
    }
   ],
   "source": [
    "def clean_text(text):\n",
    "    # Convertir todo el texto a minúsculas\n",
    "    text = text.lower()\n",
    "    # Remover caracteres especiales\n",
    "    text = re.sub(r'\\W', ' ', text)\n",
    "    # Remover caracteres simples\n",
    "    text = re.sub(r'\\s+[a-zA-Z]\\s+', ' ', text)\n",
    "    # Remover caracteres simples del inicio\n",
    "    text = re.sub(r'\\^[a-zA-Z]\\s+', ' ', text) \n",
    "    # Remover múltiples espacios con uno solo\n",
    "    text = re.sub(r'\\s+', ' ', text, flags=re.I)\n",
    "    # Tokenizar el texto\n",
    "    text = word_tokenize(text)\n",
    "    # Remover stopwords\n",
    "    text = [word for word in text if not word in stopwords_english]\n",
    "    # Unir las palabras\n",
    "    text = ' '.join(text)\n",
    "    #stemmer\n",
    "    porter.stem(text)\n",
    "    return text\n",
    "\n",
    "# Aplicar la función de limpieza a la columna 'review_es'\n",
    "data['text_stemmatizer'] = data['Original_Text'].apply(clean_text)    \n",
    "    "
   ]
  },
  {
   "cell_type": "code",
   "execution_count": 16,
   "id": "b7751a69-483d-4108-a494-4a1f54d9fcee",
   "metadata": {},
   "outputs": [
    {
     "data": {
      "text/html": [
       "<div>\n",
       "<style scoped>\n",
       "    .dataframe tbody tr th:only-of-type {\n",
       "        vertical-align: middle;\n",
       "    }\n",
       "\n",
       "    .dataframe tbody tr th {\n",
       "        vertical-align: top;\n",
       "    }\n",
       "\n",
       "    .dataframe thead th {\n",
       "        text-align: right;\n",
       "    }\n",
       "</style>\n",
       "<table border=\"1\" class=\"dataframe\">\n",
       "  <thead>\n",
       "    <tr style=\"text-align: right;\">\n",
       "      <th></th>\n",
       "      <th>index</th>\n",
       "      <th>Original_Text</th>\n",
       "      <th>Fake</th>\n",
       "      <th>text_stemmatizer</th>\n",
       "    </tr>\n",
       "  </thead>\n",
       "  <tbody>\n",
       "    <tr>\n",
       "      <th>0</th>\n",
       "      <td>12711</td>\n",
       "      <td>ROME (Reuters) - Pope Francis lamented the dec...</td>\n",
       "      <td>0</td>\n",
       "      <td>rome reuters pope francis lamented decay degra...</td>\n",
       "    </tr>\n",
       "    <tr>\n",
       "      <th>1</th>\n",
       "      <td>15377</td>\n",
       "      <td>A transcript from the Friday, July 31, 2015 Ru...</td>\n",
       "      <td>1</td>\n",
       "      <td>transcript friday july 31 2015 rush limbaugh s...</td>\n",
       "    </tr>\n",
       "    <tr>\n",
       "      <th>2</th>\n",
       "      <td>8644</td>\n",
       "      <td>WASHINGTON (Reuters) - The top Democrat on the...</td>\n",
       "      <td>0</td>\n",
       "      <td>washington reuters top democrat house represen...</td>\n",
       "    </tr>\n",
       "    <tr>\n",
       "      <th>3</th>\n",
       "      <td>5806</td>\n",
       "      <td>Newly released body camera footage shows a La ...</td>\n",
       "      <td>1</td>\n",
       "      <td>newly released body camera footage shows la ju...</td>\n",
       "    </tr>\n",
       "    <tr>\n",
       "      <th>4</th>\n",
       "      <td>20044</td>\n",
       "      <td>DUBAI (Reuters) - Yemen s Houthi leader Abdel-...</td>\n",
       "      <td>0</td>\n",
       "      <td>dubai reuters yemen houthi leader abdel malek ...</td>\n",
       "    </tr>\n",
       "    <tr>\n",
       "      <th>...</th>\n",
       "      <td>...</td>\n",
       "      <td>...</td>\n",
       "      <td>...</td>\n",
       "      <td>...</td>\n",
       "    </tr>\n",
       "    <tr>\n",
       "      <th>44893</th>\n",
       "      <td>17346</td>\n",
       "      <td>MOSCOW (Reuters) - Ali Larijani, the speaker o...</td>\n",
       "      <td>0</td>\n",
       "      <td>moscow reuters ali larijani speaker iranian pa...</td>\n",
       "    </tr>\n",
       "    <tr>\n",
       "      <th>44894</th>\n",
       "      <td>13116</td>\n",
       "      <td>We re not sure who s doing the polling in Amer...</td>\n",
       "      <td>1</td>\n",
       "      <td>sure polling america judging consistently huge...</td>\n",
       "    </tr>\n",
       "    <tr>\n",
       "      <th>44895</th>\n",
       "      <td>57</td>\n",
       "      <td>Donald Trump thinks if he rage-tweets about NF...</td>\n",
       "      <td>1</td>\n",
       "      <td>donald trump thinks rage tweets nfl players ch...</td>\n",
       "    </tr>\n",
       "    <tr>\n",
       "      <th>44896</th>\n",
       "      <td>558</td>\n",
       "      <td>WASHINGTON (Reuters) - The House of Representa...</td>\n",
       "      <td>0</td>\n",
       "      <td>washington reuters house representatives ethic...</td>\n",
       "    </tr>\n",
       "    <tr>\n",
       "      <th>44897</th>\n",
       "      <td>5312</td>\n",
       "      <td>The U.S.A. Freedom Kids performed at a rally f...</td>\n",
       "      <td>1</td>\n",
       "      <td>freedom kids performed rally donald trump flor...</td>\n",
       "    </tr>\n",
       "  </tbody>\n",
       "</table>\n",
       "<p>44898 rows × 4 columns</p>\n",
       "</div>"
      ],
      "text/plain": [
       "       index                                      Original_Text  Fake  \\\n",
       "0      12711  ROME (Reuters) - Pope Francis lamented the dec...     0   \n",
       "1      15377  A transcript from the Friday, July 31, 2015 Ru...     1   \n",
       "2       8644  WASHINGTON (Reuters) - The top Democrat on the...     0   \n",
       "3       5806  Newly released body camera footage shows a La ...     1   \n",
       "4      20044  DUBAI (Reuters) - Yemen s Houthi leader Abdel-...     0   \n",
       "...      ...                                                ...   ...   \n",
       "44893  17346  MOSCOW (Reuters) - Ali Larijani, the speaker o...     0   \n",
       "44894  13116  We re not sure who s doing the polling in Amer...     1   \n",
       "44895     57  Donald Trump thinks if he rage-tweets about NF...     1   \n",
       "44896    558  WASHINGTON (Reuters) - The House of Representa...     0   \n",
       "44897   5312  The U.S.A. Freedom Kids performed at a rally f...     1   \n",
       "\n",
       "                                        text_stemmatizer  \n",
       "0      rome reuters pope francis lamented decay degra...  \n",
       "1      transcript friday july 31 2015 rush limbaugh s...  \n",
       "2      washington reuters top democrat house represen...  \n",
       "3      newly released body camera footage shows la ju...  \n",
       "4      dubai reuters yemen houthi leader abdel malek ...  \n",
       "...                                                  ...  \n",
       "44893  moscow reuters ali larijani speaker iranian pa...  \n",
       "44894  sure polling america judging consistently huge...  \n",
       "44895  donald trump thinks rage tweets nfl players ch...  \n",
       "44896  washington reuters house representatives ethic...  \n",
       "44897  freedom kids performed rally donald trump flor...  \n",
       "\n",
       "[44898 rows x 4 columns]"
      ]
     },
     "execution_count": 16,
     "metadata": {},
     "output_type": "execute_result"
    }
   ],
   "source": []
  },
  {
   "cell_type": "code",
   "execution_count": null,
   "id": "b54b9017-5927-4da5-92f8-c78690cb4608",
   "metadata": {},
   "outputs": [],
   "source": []
  },
  {
   "cell_type": "code",
   "execution_count": 17,
   "id": "6da3fbf8-1da4-44a3-8ff3-fe86a4faeac6",
   "metadata": {},
   "outputs": [
    {
     "data": {
      "text/html": [
       "<div>\n",
       "<style scoped>\n",
       "    .dataframe tbody tr th:only-of-type {\n",
       "        vertical-align: middle;\n",
       "    }\n",
       "\n",
       "    .dataframe tbody tr th {\n",
       "        vertical-align: top;\n",
       "    }\n",
       "\n",
       "    .dataframe thead th {\n",
       "        text-align: right;\n",
       "    }\n",
       "</style>\n",
       "<table border=\"1\" class=\"dataframe\">\n",
       "  <thead>\n",
       "    <tr style=\"text-align: right;\">\n",
       "      <th></th>\n",
       "      <th>index</th>\n",
       "      <th>Original_Text</th>\n",
       "      <th>Fake</th>\n",
       "      <th>text_stemmatizer</th>\n",
       "    </tr>\n",
       "  </thead>\n",
       "  <tbody>\n",
       "    <tr>\n",
       "      <th>0</th>\n",
       "      <td>12711</td>\n",
       "      <td>ROME (Reuters) - Pope Francis lamented the dec...</td>\n",
       "      <td>0</td>\n",
       "      <td>rome reuters pope francis lamented decay degra...</td>\n",
       "    </tr>\n",
       "    <tr>\n",
       "      <th>1</th>\n",
       "      <td>15377</td>\n",
       "      <td>A transcript from the Friday, July 31, 2015 Ru...</td>\n",
       "      <td>1</td>\n",
       "      <td>transcript friday july 31 2015 rush limbaugh s...</td>\n",
       "    </tr>\n",
       "    <tr>\n",
       "      <th>2</th>\n",
       "      <td>8644</td>\n",
       "      <td>WASHINGTON (Reuters) - The top Democrat on the...</td>\n",
       "      <td>0</td>\n",
       "      <td>washington reuters top democrat house represen...</td>\n",
       "    </tr>\n",
       "    <tr>\n",
       "      <th>3</th>\n",
       "      <td>5806</td>\n",
       "      <td>Newly released body camera footage shows a La ...</td>\n",
       "      <td>1</td>\n",
       "      <td>newly released body camera footage shows la ju...</td>\n",
       "    </tr>\n",
       "    <tr>\n",
       "      <th>4</th>\n",
       "      <td>20044</td>\n",
       "      <td>DUBAI (Reuters) - Yemen s Houthi leader Abdel-...</td>\n",
       "      <td>0</td>\n",
       "      <td>dubai reuters yemen houthi leader abdel malek ...</td>\n",
       "    </tr>\n",
       "  </tbody>\n",
       "</table>\n",
       "</div>"
      ],
      "text/plain": [
       "   index                                      Original_Text  Fake  \\\n",
       "0  12711  ROME (Reuters) - Pope Francis lamented the dec...     0   \n",
       "1  15377  A transcript from the Friday, July 31, 2015 Ru...     1   \n",
       "2   8644  WASHINGTON (Reuters) - The top Democrat on the...     0   \n",
       "3   5806  Newly released body camera footage shows a La ...     1   \n",
       "4  20044  DUBAI (Reuters) - Yemen s Houthi leader Abdel-...     0   \n",
       "\n",
       "                                    text_stemmatizer  \n",
       "0  rome reuters pope francis lamented decay degra...  \n",
       "1  transcript friday july 31 2015 rush limbaugh s...  \n",
       "2  washington reuters top democrat house represen...  \n",
       "3  newly released body camera footage shows la ju...  \n",
       "4  dubai reuters yemen houthi leader abdel malek ...  "
      ]
     },
     "execution_count": 17,
     "metadata": {},
     "output_type": "execute_result"
    }
   ],
   "source": [
    "data.head()"
   ]
  },
  {
   "cell_type": "markdown",
   "id": "05c47d2b-3c25-468b-9a8b-77606c935c62",
   "metadata": {},
   "source": [
    "# SnowballStemmer"
   ]
  },
  {
   "cell_type": "code",
   "execution_count": 18,
   "id": "98664b7d-d1d8-49a0-b710-a938bedd21da",
   "metadata": {},
   "outputs": [],
   "source": [
    "\n",
    "from nltk.stem.snowball import SnowballStemmer\n",
    "englishStemmer=SnowballStemmer(\"english\")\n",
    "\n"
   ]
  },
  {
   "cell_type": "code",
   "execution_count": 19,
   "id": "0a9bd5bf-b56d-4788-be45-cf6eb63829f6",
   "metadata": {},
   "outputs": [],
   "source": [
    "def clean_text(text):\n",
    "    # Convertir todo el texto a minúsculas\n",
    "    text = text.lower()\n",
    "    # Remover caracteres especiales\n",
    "    text = re.sub(r'\\W', ' ', text)\n",
    "    # Remover caracteres simples\n",
    "    text = re.sub(r'\\s+[a-zA-Z]\\s+', ' ', text)\n",
    "    # Remover caracteres simples del inicio\n",
    "    text = re.sub(r'\\^[a-zA-Z]\\s+', ' ', text) \n",
    "    # Remover múltiples espacios con uno solo\n",
    "    text = re.sub(r'\\s+', ' ', text, flags=re.I)\n",
    "    # Tokenizar el texto\n",
    "    text = word_tokenize(text)\n",
    "    # Remover stopwords\n",
    "    text = [word for word in text if not word in stopwords_english]\n",
    "    # Unir las palabras\n",
    "    text = ' '.join(text)\n",
    "    #stemmer\n",
    "    text = englishStemmer.stem(text)\n",
    "    return text\n",
    "data[\"Text_SnowballStemmer\"] = data['Original_Text'].apply(clean_text)"
   ]
  },
  {
   "cell_type": "code",
   "execution_count": 51,
   "id": "28d124be-63b9-4277-adcc-21a4c1e38b83",
   "metadata": {},
   "outputs": [
    {
     "data": {
      "text/html": [
       "<div>\n",
       "<style scoped>\n",
       "    .dataframe tbody tr th:only-of-type {\n",
       "        vertical-align: middle;\n",
       "    }\n",
       "\n",
       "    .dataframe tbody tr th {\n",
       "        vertical-align: top;\n",
       "    }\n",
       "\n",
       "    .dataframe thead th {\n",
       "        text-align: right;\n",
       "    }\n",
       "</style>\n",
       "<table border=\"1\" class=\"dataframe\">\n",
       "  <thead>\n",
       "    <tr style=\"text-align: right;\">\n",
       "      <th></th>\n",
       "      <th>index</th>\n",
       "      <th>Original_Text</th>\n",
       "      <th>Fake</th>\n",
       "      <th>text_stemmatizer</th>\n",
       "      <th>Text_SnowballStemmer</th>\n",
       "    </tr>\n",
       "  </thead>\n",
       "  <tbody>\n",
       "    <tr>\n",
       "      <th>10656</th>\n",
       "      <td>287</td>\n",
       "      <td>WASHINGTON (Reuters) - U.S. President Donald T...</td>\n",
       "      <td>0</td>\n",
       "      <td>washington reuters president donald trump woul...</td>\n",
       "      <td>washington reuters president donald trump woul...</td>\n",
       "    </tr>\n",
       "  </tbody>\n",
       "</table>\n",
       "</div>"
      ],
      "text/plain": [
       "       index                                      Original_Text  Fake  \\\n",
       "10656    287  WASHINGTON (Reuters) - U.S. President Donald T...     0   \n",
       "\n",
       "                                        text_stemmatizer  \\\n",
       "10656  washington reuters president donald trump woul...   \n",
       "\n",
       "                                    Text_SnowballStemmer  \n",
       "10656  washington reuters president donald trump woul...  "
      ]
     },
     "execution_count": 51,
     "metadata": {},
     "output_type": "execute_result"
    }
   ],
   "source": [
    "data.sample()"
   ]
  },
  {
   "cell_type": "markdown",
   "id": "bf15db4d-ad93-49d5-a531-6e024e8a5e28",
   "metadata": {},
   "source": [
    "# Saving  CSV"
   ]
  },
  {
   "cell_type": "code",
   "execution_count": 64,
   "id": "babe6d5e-63d3-47f2-b058-3764a96f792c",
   "metadata": {},
   "outputs": [],
   "source": [
    "data.to_csv(\"data.csv\")"
   ]
  },
  {
   "cell_type": "markdown",
   "id": "2657c6ee-7e7e-4a96-9f64-f084737b2d34",
   "metadata": {},
   "source": [
    "# Training a Logistic Regression and SVC model with text_stemmatizer\n",
    "Using TfidfVectorizer and GridSearch"
   ]
  },
  {
   "cell_type": "code",
   "execution_count": 57,
   "id": "b472bb86-bc1f-4fc4-b85d-d7988c1ea859",
   "metadata": {},
   "outputs": [],
   "source": [
    "from sklearn.model_selection import train_test_split\n",
    "\n",
    "X = data['text_stemmatizer']\n",
    "y = data['Fake']\n",
    "\n",
    "X_train, X_test, y_train, y_test = train_test_split(X, y, test_size=0.2, random_state=42)"
   ]
  },
  {
   "cell_type": "code",
   "execution_count": 58,
   "id": "7234e071-cf28-4070-b149-efbb5229a993",
   "metadata": {},
   "outputs": [],
   "source": [
    "from sklearn.feature_extraction.text import TfidfVectorizer\n",
    "\n",
    "vectorizer = TfidfVectorizer()\n",
    "X_train_vect = vectorizer.fit_transform(X_train)\n",
    "X_test_vect = vectorizer.transform(X_test)"
   ]
  },
  {
   "cell_type": "code",
   "execution_count": null,
   "id": "2a7988bd-2551-41d5-99f5-2d6edeae575a",
   "metadata": {},
   "outputs": [],
   "source": [
    "\"\"\"from sklearn.feature_extraction.text import TfidfTransformer\n",
    "\n",
    "Tfidf_encoding=TfidfTransformer().fit_transform(countvectorizer_encoding);\n",
    "\n",
    "pd.DataFrame(Tfidf_encoding.todense(),columns=vectorizer.get_feature_names_out())\n",
    "\"\"\""
   ]
  },
  {
   "cell_type": "markdown",
   "id": "242d7ef7-cd53-43b8-89f4-e6b885d5d556",
   "metadata": {},
   "source": [
    "# Logistic Regression"
   ]
  },
  {
   "cell_type": "code",
   "execution_count": 60,
   "id": "30eb9cf5-40b4-407a-bba6-54a3c5c06a5a",
   "metadata": {},
   "outputs": [],
   "source": [
    "from sklearn.linear_model import LogisticRegression\n",
    "from sklearn.model_selection import GridSearchCV\n",
    "\n",
    "parameters = {'C': [0.1, 1, 10, 100]}"
   ]
  },
  {
   "cell_type": "code",
   "execution_count": 61,
   "id": "10056f22-5fc2-4dcc-a75e-8030f069da25",
   "metadata": {},
   "outputs": [
    {
     "name": "stdout",
     "output_type": "stream",
     "text": [
      "Best parameters: {'C': 100}\n",
      "Best score: 0.9932902738059767\n"
     ]
    }
   ],
   "source": [
    "lr = LogisticRegression(max_iter=1000)\n",
    "\n",
    "clf = GridSearchCV(lr, parameters, n_jobs=1)\n",
    "clf.fit(X_train_vect, y_train)\n",
    "\n",
    "print('Best parameters:', clf.best_params_)\n",
    "print('Best score:', clf.best_score_)"
   ]
  },
  {
   "cell_type": "code",
   "execution_count": null,
   "id": "e539aa6a-a54b-4951-9af9-12165e4f027d",
   "metadata": {},
   "outputs": [],
   "source": []
  },
  {
   "cell_type": "code",
   "execution_count": null,
   "id": "70a2ef03-00f8-4c17-ac3d-5d899047a6a9",
   "metadata": {},
   "outputs": [],
   "source": []
  },
  {
   "cell_type": "markdown",
   "id": "8fc1f1b4-7818-4e97-81ae-1855b9d8966c",
   "metadata": {},
   "source": [
    "# SVM"
   ]
  },
  {
   "cell_type": "code",
   "execution_count": 68,
   "id": "8cf405d4-d80b-4af4-8925-6a2bc2f73983",
   "metadata": {},
   "outputs": [],
   "source": [
    "from sklearn import svm"
   ]
  },
  {
   "cell_type": "code",
   "execution_count": 69,
   "id": "7571122c-40a9-4310-8593-e8e38bcac59d",
   "metadata": {},
   "outputs": [
    {
     "name": "stdout",
     "output_type": "stream",
     "text": [
      "Fitting 3 folds for each of 6 candidates, totalling 18 fits\n",
      "[CV] END ...................................C=0.1, gamma=0.1; total time=11.2min\n",
      "[CV] END ...................................C=0.1, gamma=0.1; total time=11.2min\n",
      "[CV] END ...................................C=0.1, gamma=0.1; total time=12.5min\n",
      "[CV] END ..................................C=0.1, gamma=0.01; total time=15.3min\n",
      "[CV] END ..................................C=0.1, gamma=0.01; total time=15.3min\n",
      "[CV] END ..................................C=0.1, gamma=0.01; total time=15.2min\n",
      "[CV] END .....................................C=1, gamma=0.1; total time= 5.0min\n",
      "[CV] END .....................................C=1, gamma=0.1; total time= 5.0min\n",
      "[CV] END .....................................C=1, gamma=0.1; total time= 4.9min\n",
      "[CV] END ....................................C=1, gamma=0.01; total time=10.6min\n",
      "[CV] END ....................................C=1, gamma=0.01; total time=10.6min\n",
      "[CV] END ....................................C=1, gamma=0.01; total time=10.6min\n",
      "[CV] END ....................................C=10, gamma=0.1; total time= 6.6min\n",
      "[CV] END ....................................C=10, gamma=0.1; total time= 6.7min\n",
      "[CV] END ....................................C=10, gamma=0.1; total time= 6.4min\n",
      "[CV] END ...................................C=10, gamma=0.01; total time= 4.5min\n",
      "[CV] END ...................................C=10, gamma=0.01; total time= 4.5min\n",
      "[CV] END ...................................C=10, gamma=0.01; total time= 4.5min\n",
      "Best parameters: {'C': 10, 'gamma': 0.1}\n",
      "Best score: 0.9934294728197658\n"
     ]
    }
   ],
   "source": [
    "parameters = {'C': [0.1, 1, 10], 'gamma': [0.1, 0.01]}\n",
    "\n",
    "sv = svm.SVC()\n",
    "\n",
    "clf_svm = GridSearchCV(sv, parameters, n_jobs=1, verbose=2, cv=3)\n",
    "clf_svm.fit(X_train_vect, y_train)\n",
    "\n",
    "print('Best parameters:', clf_svm.best_params_)\n",
    "print('Best score:', clf_svm.best_score_)"
   ]
  },
  {
   "cell_type": "code",
   "execution_count": 71,
   "id": "8cf06c61-2c62-4639-af6b-45d1f22760c0",
   "metadata": {},
   "outputs": [
    {
     "name": "stdout",
     "output_type": "stream",
     "text": [
      "Accuracy: 0.994543429844098\n",
      "Confusion Matrix:\n",
      " [[4313   20]\n",
      " [  29 4618]]\n",
      "Classification Report:\n",
      "               precision    recall  f1-score   support\n",
      "\n",
      "           0       0.99      1.00      0.99      4333\n",
      "           1       1.00      0.99      0.99      4647\n",
      "\n",
      "    accuracy                           0.99      8980\n",
      "   macro avg       0.99      0.99      0.99      8980\n",
      "weighted avg       0.99      0.99      0.99      8980\n",
      "\n"
     ]
    }
   ],
   "source": [
    "from sklearn.metrics import accuracy_score, confusion_matrix, classification_report\n",
    "predictions_svm = clf_svm.predict(X_test_vect)\n",
    "\n",
    "print('Accuracy:', accuracy_score(y_test, predictions_svm))\n",
    "print('Confusion Matrix:\\n', confusion_matrix(y_test, predictions_svm))\n",
    "print('Classification Report:\\n', classification_report(y_test, predictions_svm))"
   ]
  },
  {
   "cell_type": "markdown",
   "id": "c0340d78-56b4-45c5-b2f6-8ebeb1f6677b",
   "metadata": {},
   "source": [
    "# Training a Logistic Regression and SVC model with SnowballStemmer\n",
    "Using TfidfVectorizer and GridSearch\n"
   ]
  },
  {
   "cell_type": "code",
   "execution_count": 72,
   "id": "272fcdbe-82be-4b41-82db-009065ac7bae",
   "metadata": {},
   "outputs": [],
   "source": [
    "X = data['Text_SnowballStemmer']\n",
    "y = data['Fake']\n",
    "\n",
    "X_train, X_test, y_train, y_test = train_test_split(X, y, test_size=0.2, random_state=42)"
   ]
  },
  {
   "cell_type": "code",
   "execution_count": 73,
   "id": "223bc60e-181d-49e5-b325-a8fd305936b7",
   "metadata": {},
   "outputs": [],
   "source": [
    "vectorizer = TfidfVectorizer()\n",
    "X_train_vect = vectorizer.fit_transform(X_train)\n",
    "X_test_vect = vectorizer.transform(X_test)"
   ]
  },
  {
   "cell_type": "code",
   "execution_count": 75,
   "id": "0e86c16a-c18e-4d86-8f9d-4eef4e84c45b",
   "metadata": {},
   "outputs": [
    {
     "name": "stdout",
     "output_type": "stream",
     "text": [
      "Best parameters: {'C': 100}\n",
      "Best score: 0.9932345828913667\n"
     ]
    }
   ],
   "source": [
    "lr = LogisticRegression(max_iter=1000)\n",
    "parameters = {'C': [0.1, 1, 10, 100]}\n",
    "clf = GridSearchCV(lr, parameters, n_jobs=1)\n",
    "clf.fit(X_train_vect, y_train)\n",
    "\n",
    "print('Best parameters:', clf.best_params_)\n",
    "print('Best score:', clf.best_score_)"
   ]
  },
  {
   "cell_type": "code",
   "execution_count": null,
   "id": "8ff3e1a8-9867-4bf4-bf49-d7d252e9424c",
   "metadata": {},
   "outputs": [],
   "source": []
  },
  {
   "cell_type": "code",
   "execution_count": 76,
   "id": "932ed9c1-9f77-4541-8b62-9987fa6ed67a",
   "metadata": {},
   "outputs": [
    {
     "name": "stdout",
     "output_type": "stream",
     "text": [
      "Fitting 3 folds for each of 6 candidates, totalling 18 fits\n",
      "[CV] END ...................................C=0.1, gamma=0.1; total time=12.8min\n",
      "[CV] END ...................................C=0.1, gamma=0.1; total time=13.0min\n",
      "[CV] END ...................................C=0.1, gamma=0.1; total time=13.9min\n",
      "[CV] END ..................................C=0.1, gamma=0.01; total time=47.2min\n",
      "[CV] END ..................................C=0.1, gamma=0.01; total time=50.4min\n",
      "[CV] END ................................C=0.1, gamma=0.01; total time=1130.6min\n",
      "[CV] END .....................................C=1, gamma=0.1; total time= 5.7min\n",
      "[CV] END .....................................C=1, gamma=0.1; total time= 5.7min\n",
      "[CV] END .....................................C=1, gamma=0.1; total time= 5.7min\n",
      "[CV] END ....................................C=1, gamma=0.01; total time=14.3min\n",
      "[CV] END ....................................C=1, gamma=0.01; total time=14.4min\n",
      "[CV] END ....................................C=1, gamma=0.01; total time=14.2min\n",
      "[CV] END ....................................C=10, gamma=0.1; total time= 9.6min\n",
      "[CV] END ....................................C=10, gamma=0.1; total time= 9.1min\n",
      "[CV] END ....................................C=10, gamma=0.1; total time= 8.7min\n",
      "[CV] END ...................................C=10, gamma=0.01; total time= 6.1min\n",
      "[CV] END ...................................C=10, gamma=0.01; total time= 6.1min\n",
      "[CV] END ...................................C=10, gamma=0.01; total time= 6.0min\n",
      "Best parameters: {'C': 10, 'gamma': 0.1}\n",
      "Best score: 0.9937914122158902\n"
     ]
    }
   ],
   "source": [
    "parameters = {'C': [0.1, 1, 10], 'gamma': [0.1, 0.01]}\n",
    "\n",
    "sv = svm.SVC()\n",
    "\n",
    "clf_svm = GridSearchCV(sv, parameters, n_jobs=1, verbose=2, cv=3)\n",
    "clf_svm.fit(X_train_vect, y_train)\n",
    "\n",
    "print('Best parameters:', clf_svm.best_params_)\n",
    "print('Best score:', clf_svm.best_score_)"
   ]
  },
  {
   "cell_type": "code",
   "execution_count": 77,
   "id": "ab074ea8-819d-4eb2-8a1c-3241e4661e82",
   "metadata": {},
   "outputs": [
    {
     "name": "stdout",
     "output_type": "stream",
     "text": [
      "Accuracy: 0.9955456570155902\n",
      "Confusion Matrix:\n",
      " [[4317   16]\n",
      " [  24 4623]]\n",
      "Classification Report:\n",
      "               precision    recall  f1-score   support\n",
      "\n",
      "           0       0.99      1.00      1.00      4333\n",
      "           1       1.00      0.99      1.00      4647\n",
      "\n",
      "    accuracy                           1.00      8980\n",
      "   macro avg       1.00      1.00      1.00      8980\n",
      "weighted avg       1.00      1.00      1.00      8980\n",
      "\n"
     ]
    }
   ],
   "source": [
    "from sklearn.metrics import accuracy_score, confusion_matrix, classification_report\n",
    "predictions_svm = clf_svm.predict(X_test_vect)\n",
    "\n",
    "print('Accuracy:', accuracy_score(y_test, predictions_svm))\n",
    "print('Confusion Matrix:\\n', confusion_matrix(y_test, predictions_svm))\n",
    "print('Classification Report:\\n', classification_report(y_test, predictions_svm))"
   ]
  },
  {
   "cell_type": "code",
   "execution_count": null,
   "id": "1981be50-6e94-418b-909a-aa154bdadd2e",
   "metadata": {},
   "outputs": [],
   "source": []
  }
 ],
 "metadata": {
  "kernelspec": {
   "display_name": "Python 3 (ipykernel)",
   "language": "python",
   "name": "python3"
  },
  "language_info": {
   "codemirror_mode": {
    "name": "ipython",
    "version": 3
   },
   "file_extension": ".py",
   "mimetype": "text/x-python",
   "name": "python",
   "nbconvert_exporter": "python",
   "pygments_lexer": "ipython3",
   "version": "3.10.8"
  }
 },
 "nbformat": 4,
 "nbformat_minor": 5
}
